{
 "cells": [
  {
   "cell_type": "markdown",
   "id": "fc0b15de",
   "metadata": {},
   "source": [
    "Paso 1: Cargar el conjunto de datos"
   ]
  },
  {
   "cell_type": "code",
   "execution_count": 1,
   "id": "4b99fa64",
   "metadata": {},
   "outputs": [
    {
     "name": "stdout",
     "output_type": "stream",
     "text": [
      "          package_name                                             review  \\\n",
      "0  com.facebook.katana   privacy at least put some option appear offli...   \n",
      "1  com.facebook.katana   messenger issues ever since the last update, ...   \n",
      "2  com.facebook.katana   profile any time my wife or anybody has more ...   \n",
      "3  com.facebook.katana   the new features suck for those of us who don...   \n",
      "4  com.facebook.katana   forced reload on uploading pic on replying co...   \n",
      "\n",
      "   polarity  \n",
      "0         0  \n",
      "1         0  \n",
      "2         0  \n",
      "3         0  \n",
      "4         0  \n"
     ]
    }
   ],
   "source": [
    "import pandas as pd\n",
    "\n",
    "# Cargar el CSV desde GitHub\n",
    "url = \"https://raw.githubusercontent.com/4GeeksAcademy/naive-bayes-project-tutorial/main/playstore_reviews.csv\"\n",
    "df = pd.read_csv(url)\n",
    "\n",
    "# Verificar las primeras filas\n",
    "print(df.head())\n"
   ]
  },
  {
   "cell_type": "markdown",
   "id": "dbc0f592",
   "metadata": {},
   "source": [
    "Paso 2: Estudio de variables y preprocesamiento. No es necesario EDA\n"
   ]
  },
  {
   "cell_type": "code",
   "execution_count": 2,
   "id": "3db80f69",
   "metadata": {},
   "outputs": [],
   "source": [
    "# Eliminar package_name\n",
    "df.drop(columns=['package_name'], inplace=True)\n"
   ]
  },
  {
   "cell_type": "code",
   "execution_count": 3,
   "id": "1ab541a8",
   "metadata": {},
   "outputs": [],
   "source": [
    "# Convertir a minúsculas y eliminar espacios\n",
    "df['review'] = df['review'].str.strip().str.lower()\n"
   ]
  },
  {
   "cell_type": "code",
   "execution_count": 4,
   "id": "3131765e",
   "metadata": {},
   "outputs": [],
   "source": [
    "from sklearn.model_selection import train_test_split\n",
    "\n",
    "X = df['review']\n",
    "y = df['polarity']\n",
    "\n",
    "X_train, X_test, y_train, y_test = train_test_split(X, y, test_size=0.2, random_state=42)\n"
   ]
  },
  {
   "cell_type": "markdown",
   "id": "8fb3d509",
   "metadata": {},
   "source": [
    "VECTORIZACION DEL TEXTO"
   ]
  },
  {
   "cell_type": "code",
   "execution_count": 5,
   "id": "8ff52b85",
   "metadata": {},
   "outputs": [],
   "source": [
    "from sklearn.feature_extraction.text import CountVectorizer\n",
    "\n",
    "vec_model = CountVectorizer(stop_words='english')\n",
    "X_train_vec = vec_model.fit_transform(X_train).toarray()\n",
    "X_test_vec = vec_model.transform(X_test).toarray()\n"
   ]
  },
  {
   "cell_type": "markdown",
   "id": "0ce33a1e",
   "metadata": {},
   "source": [
    "Paso 3: Construimos el modelo Naive Bayes: "
   ]
  },
  {
   "cell_type": "markdown",
   "id": "0dba95c6",
   "metadata": {},
   "source": [
    "3.1 MultinomialNB"
   ]
  },
  {
   "cell_type": "code",
   "execution_count": 6,
   "id": "fb6bb738",
   "metadata": {},
   "outputs": [
    {
     "name": "stdout",
     "output_type": "stream",
     "text": [
      "MultinomialNB Accuracy: 0.8156424581005587\n",
      "              precision    recall  f1-score   support\n",
      "\n",
      "           0       0.84      0.90      0.87       126\n",
      "           1       0.73      0.60      0.66        53\n",
      "\n",
      "    accuracy                           0.82       179\n",
      "   macro avg       0.79      0.75      0.77       179\n",
      "weighted avg       0.81      0.82      0.81       179\n",
      "\n"
     ]
    }
   ],
   "source": [
    "from sklearn.naive_bayes import MultinomialNB\n",
    "from sklearn.metrics import classification_report, accuracy_score\n",
    "\n",
    "model_mnb = MultinomialNB()\n",
    "model_mnb.fit(X_train_vec, y_train)\n",
    "y_pred_mnb = model_mnb.predict(X_test_vec)\n",
    "\n",
    "print(\"MultinomialNB Accuracy:\", accuracy_score(y_test, y_pred_mnb))\n",
    "print(classification_report(y_test, y_pred_mnb))\n"
   ]
  },
  {
   "cell_type": "markdown",
   "id": "99359d4f",
   "metadata": {},
   "source": [
    "3.2 GaussianNB"
   ]
  },
  {
   "cell_type": "code",
   "execution_count": 7,
   "id": "7e4d1b73",
   "metadata": {},
   "outputs": [
    {
     "name": "stdout",
     "output_type": "stream",
     "text": [
      "GaussianNB Accuracy: 0.8044692737430168\n",
      "              precision    recall  f1-score   support\n",
      "\n",
      "           0       0.85      0.88      0.86       126\n",
      "           1       0.69      0.62      0.65        53\n",
      "\n",
      "    accuracy                           0.80       179\n",
      "   macro avg       0.77      0.75      0.76       179\n",
      "weighted avg       0.80      0.80      0.80       179\n",
      "\n"
     ]
    }
   ],
   "source": [
    "from sklearn.naive_bayes import GaussianNB\n",
    "\n",
    "model_gnb = GaussianNB()\n",
    "model_gnb.fit(X_train_vec, y_train)\n",
    "y_pred_gnb = model_gnb.predict(X_test_vec)\n",
    "\n",
    "print(\"GaussianNB Accuracy:\", accuracy_score(y_test, y_pred_gnb))\n",
    "print(classification_report(y_test, y_pred_gnb))\n"
   ]
  },
  {
   "cell_type": "markdown",
   "id": "2a613cab",
   "metadata": {},
   "source": [
    "3.3 BernouilliNB"
   ]
  },
  {
   "cell_type": "code",
   "execution_count": 8,
   "id": "639398fd",
   "metadata": {},
   "outputs": [
    {
     "name": "stdout",
     "output_type": "stream",
     "text": [
      "BernoulliNB Accuracy: 0.770949720670391\n",
      "              precision    recall  f1-score   support\n",
      "\n",
      "           0       0.79      0.93      0.85       126\n",
      "           1       0.70      0.40      0.51        53\n",
      "\n",
      "    accuracy                           0.77       179\n",
      "   macro avg       0.74      0.66      0.68       179\n",
      "weighted avg       0.76      0.77      0.75       179\n",
      "\n"
     ]
    }
   ],
   "source": [
    "from sklearn.naive_bayes import BernoulliNB\n",
    "\n",
    "model_bnb = BernoulliNB()\n",
    "model_bnb.fit(X_train_vec, y_train)\n",
    "y_pred_bnb = model_bnb.predict(X_test_vec)\n",
    "\n",
    "print(\"BernoulliNB Accuracy:\", accuracy_score(y_test, y_pred_bnb))\n",
    "print(classification_report(y_test, y_pred_bnb))\n"
   ]
  },
  {
   "cell_type": "markdown",
   "id": "29b1147c",
   "metadata": {},
   "source": [
    "Nos quedamos con el modelo MultinomialNB con accuracy de 0.82. Tiene sentido ya que es el mejor modelo para textos"
   ]
  },
  {
   "cell_type": "markdown",
   "id": "6f79eb48",
   "metadata": {},
   "source": [
    "Paso 4: Optimizacion con Random Forest"
   ]
  },
  {
   "cell_type": "code",
   "execution_count": 9,
   "id": "86e3b2f4",
   "metadata": {},
   "outputs": [
    {
     "name": "stdout",
     "output_type": "stream",
     "text": [
      "Random Forest Accuracy: 0.7988826815642458\n",
      "              precision    recall  f1-score   support\n",
      "\n",
      "           0       0.88      0.83      0.85       126\n",
      "           1       0.64      0.74      0.68        53\n",
      "\n",
      "    accuracy                           0.80       179\n",
      "   macro avg       0.76      0.78      0.77       179\n",
      "weighted avg       0.81      0.80      0.80       179\n",
      "\n"
     ]
    }
   ],
   "source": [
    "from sklearn.ensemble import RandomForestClassifier\n",
    "\n",
    "rf_model = RandomForestClassifier(random_state=42)\n",
    "rf_model.fit(X_train_vec, y_train)\n",
    "y_pred_rf = rf_model.predict(X_test_vec)\n",
    "\n",
    "print(\"Random Forest Accuracy:\", accuracy_score(y_test, y_pred_rf))\n",
    "print(classification_report(y_test, y_pred_rf))\n"
   ]
  },
  {
   "cell_type": "markdown",
   "id": "be73917d",
   "metadata": {},
   "source": [
    "No consigue apenas mejoras."
   ]
  },
  {
   "cell_type": "code",
   "execution_count": 11,
   "id": "12dabb01",
   "metadata": {},
   "outputs": [
    {
     "data": {
      "text/plain": [
       "['modelos_guardados/vectorizador_count.pkl']"
      ]
     },
     "execution_count": 11,
     "metadata": {},
     "output_type": "execute_result"
    }
   ],
   "source": [
    "import joblib\n",
    "import os\n",
    "\n",
    "# Crea una carpeta de salida si no existe\n",
    "os.makedirs(\"modelos_guardados\", exist_ok=True)\n",
    "\n",
    "# Guardar el modelo MultinomialNB entrenado\n",
    "joblib.dump(model_mnb, 'modelos_guardados/modelo_multinomialnb.pkl')\n",
    "\n",
    "# Guardar el vectorizador CountVectorizer\n",
    "joblib.dump(vec_model, 'modelos_guardados/vectorizador_count.pkl')\n"
   ]
  }
 ],
 "metadata": {
  "kernelspec": {
   "display_name": "Python 3",
   "language": "python",
   "name": "python3"
  },
  "language_info": {
   "codemirror_mode": {
    "name": "ipython",
    "version": 3
   },
   "file_extension": ".py",
   "mimetype": "text/x-python",
   "name": "python",
   "nbconvert_exporter": "python",
   "pygments_lexer": "ipython3",
   "version": "3.9.2"
  }
 },
 "nbformat": 4,
 "nbformat_minor": 5
}
